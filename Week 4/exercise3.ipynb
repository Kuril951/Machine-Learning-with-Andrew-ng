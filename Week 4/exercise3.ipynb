{
 "cells": [
  {
   "cell_type": "code",
   "execution_count": 1,
   "metadata": {},
   "outputs": [],
   "source": [
    "import scipy.io as sio\n",
    "import numpy as np\n",
    "import matplotlib.pyplot as plt\n",
    "import math\n",
    "import random\n",
    "%matplotlib inline"
   ]
  },
  {
   "cell_type": "code",
   "execution_count": 76,
   "metadata": {},
   "outputs": [
    {
     "name": "stdout",
     "output_type": "stream",
     "text": [
      "[[9]\n",
      " [9]\n",
      " [9]\n",
      " ...\n",
      " [8]\n",
      " [8]\n",
      " [8]]\n",
      "(5000, 400) (5000, 1)\n"
     ]
    }
   ],
   "source": [
    "matlabMatrix = sio.loadmat(\"./machine-learning-ex3/ex3/ex3data1.mat\")\n",
    "\n",
    "X = np.array(matlabMatrix['X'], dtype=np.float32)\n",
    "Y = np.array(matlabMatrix['y'], dtype=np.int)\n",
    "Y = Y-1\n",
    "print(X.shape, Y.shape)"
   ]
  },
  {
   "cell_type": "code",
   "execution_count": 83,
   "metadata": {},
   "outputs": [
    {
     "name": "stdout",
     "output_type": "stream",
     "text": [
      "3\n"
     ]
    },
    {
     "data": {
      "image/png": "[encoded data removed]",
      "text/plain": [
       "<Figure size 432x288 with 1 Axes>"
      ]
     },
     "metadata": {},
     "output_type": "display_data"
    }
   ],
   "source": [
    "def displayData(x, y):\n",
    "    r = random.randint(0, len(x) - 1)\n",
    "    plt.imshow(x[r:r+1].reshape(20, 20), cmap=\"Greys\", interpolation='nearest')\n",
    "    print(int(y[r]) + 1)\n",
    "displayData(X, Y)"
   ]
  },
  {
   "cell_type": "code",
   "execution_count": 73,
   "metadata": {
    "scrolled": false
   },
   "outputs": [
    {
     "name": "stdout",
     "output_type": "stream",
     "text": [
      "5000 400\n",
      "step: 0\n",
      "step: 100\n",
      "step: 200\n",
      "step: 300\n",
      "step: 400\n",
      "step: 500\n",
      "step: 600\n",
      "step: 700\n",
      "step: 800\n",
      "step: 900\n",
      "0.6931471805599463\n",
      "0.3353645065347885\n",
      "0.7648\n"
     ]
    },
    {
     "data": {
      "image/png": "[encoded data removed]",
      "text/plain": [
       "<Figure size 576x432 with 1 Axes>"
      ]
     },
     "metadata": {},
     "output_type": "display_data"
    }
   ],
   "source": [
    "def sigmoid(z):\n",
    "    return 1 / (1 + np.exp(-z))\n",
    "\n",
    "def hypothesis(w, x, b):\n",
    "    return sigmoid(np.matmul(x, w) + b) # (5000, 400) * (400 * 10) + b\n",
    "\n",
    "def computeCost(w, x, b, y, m, _lambda):\n",
    "    hx = hypothesis(w, x, b)  # (5000, 10)\n",
    "    cost = np.dot(-1/m, np.sum(np.matmul(y.T, np.log(hx)) + np.matmul((1 - y).T, np.log(1 - hx))))\n",
    "    regularizationTerm = np.dot(_lambda/(2 * m), np.sum(np.square(w)))\n",
    "    cost = (cost + regularizationTerm) / 100\n",
    "    return cost\n",
    "\n",
    "def gradientDescent(w, x, b, y, m, learning_rate, _lambda):\n",
    "    hx = hypothesis(w, x, b)\n",
    "    w_gradient = learning_rate/m * np.matmul(x.T, (hx - y)) + (_lambda / m) * w\n",
    "    b_gradient = learning_rate/m * np.sum(hx - y)\n",
    "    w = w - w_gradient\n",
    "    b = b - b_gradient\n",
    "    return w, b\n",
    "\n",
    "def showCostFunction(x, y):\n",
    "    plt.figure(figsize=(8, 6))\n",
    "    plt.plot(x, y)\n",
    "\n",
    "def main():\n",
    "    x = np.array(X) # shape (5000, 400)\n",
    "    n_values = np.max(Y) + 1\n",
    "    y = np.eye(n_values)[Y]\n",
    "    y = y.reshape((-1, 10)) # shape (5000, 11)\n",
    "    \n",
    "    m = len(X)\n",
    "    n = len(x[0])\n",
    "    print(m,n)\n",
    "    \n",
    "    w = np.zeros((n, 10))\n",
    "    b = np.zeros(10)\n",
    "    \n",
    "    learning_rate = 1e-3\n",
    "    steps = 1000\n",
    "    _lambda = 0\n",
    "    \n",
    "    plt_cost = np.empty(steps)\n",
    "    plt_step = np.empty(steps)\n",
    "    \n",
    "    for step in range(steps):\n",
    "        if step % 100 == 0:\n",
    "            print(\"step:\", step)\n",
    "        plt_step[step] = step\n",
    "        plt_cost[step] = computeCost(w, x, b, y, m, _lambda)\n",
    "        w, b = gradientDescent(w, x, b, y, m, learning_rate, _lambda)\n",
    "    print(plt_cost[0])\n",
    "    print(plt_cost[steps - 1])\n",
    "    \n",
    "    showCostFunction(plt_step, plt_cost)\n",
    "    \n",
    "    a = np.argmax(hypothesis(w, x, b), axis=1).reshape((m, -1))\n",
    "    is_correct = np.equal(a, Y)\n",
    "    accuracy = np.sum(is_correct) / m\n",
    "    print(accuracy)\n",
    "    \n",
    "main()"
   ]
  },
  {
   "cell_type": "code",
   "execution_count": 90,
   "metadata": {},
   "outputs": [
    {
     "name": "stdout",
     "output_type": "stream",
     "text": [
      "(25, 401) (10, 26)\n",
      "5000 400\n",
      "0.9752\n"
     ]
    }
   ],
   "source": [
    "def main2():\n",
    "    weight = sio.loadmat(\"./machine-learning-ex3/ex3/ex3weights.mat\")\n",
    "\n",
    "    w1 = np.array(weight[\"Theta1\"])\n",
    "    w2 = np.array(weight[\"Theta2\"])\n",
    "\n",
    "    print(w1.shape, w2.shape)\n",
    "    \n",
    "    x = np.array(X) # shape (5000, 400)\n",
    "    n_values = np.max(Y) + 1\n",
    "    y = np.eye(n_values)[Y]\n",
    "    y = y.reshape((-1, 10)) # shape (5000, 11)\n",
    "    \n",
    "    m = len(X)\n",
    "    n = len(x[0])\n",
    "    print(m,n)\n",
    "\n",
    "    a1 = np.c_[np.ones(m), x] # (5000, 401)\n",
    "    \n",
    "    z2 = np.matmul(a1, w1.T) # (5000, 25)\n",
    "    a2 = np.c_[np.ones(len(z2)), sigmoid(z2)] # (5000, 26)\n",
    "    \n",
    "    z3 = np.matmul(a2, w2.T) # (5000, 10)\n",
    "    a3 = sigmoid(z3)\n",
    "    \n",
    "    result = np.argmax(a3, axis=1).reshape((m, -1))\n",
    "    is_correct = np.equal(result, Y)\n",
    "    accuracy = np.sum(is_correct) / m\n",
    "    print(accuracy)\n",
    "main2()"
   ]
  }
 ],
 "metadata": {
  "kernelspec": {
   "display_name": "Python 3",
   "language": "python",
   "name": "python3"
  },
  "language_info": {
   "codemirror_mode": {
    "name": "ipython",
    "version": 3
   },
   "file_extension": ".py",
   "mimetype": "text/x-python",
   "name": "python",
   "nbconvert_exporter": "python",
   "pygments_lexer": "ipython3",
   "version": "3.5.5"
  }
 },
 "nbformat": 4,
 "nbformat_minor": 2
}
