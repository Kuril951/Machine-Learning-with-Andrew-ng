{
 "cells": [
  {
   "cell_type": "code",
   "execution_count": 2,
   "metadata": {},
   "outputs": [],
   "source": [
    "import numpy as np\n",
    "import matplotlib.pyplot as plt\n",
    "import pandas as pd\n",
    "import scipy.io as sio\n",
    "import scipy.misc #Used to show matrix as an image\n",
    "import matplotlib.cm as cm #Used to display images in a specific colormap\n",
    "import random #To pick random images to display\n",
    "import scipy.optimize #fmin_cg to train neural network\n",
    "\n",
    "%matplotlib inline"
   ]
  },
  {
   "cell_type": "code",
   "execution_count": 98,
   "metadata": {},
   "outputs": [
    {
     "name": "stdout",
     "output_type": "stream",
     "text": [
      "X: (5000, 400) Y: (5000, 1)\n"
     ]
    }
   ],
   "source": [
    "data = sio.loadmat('./machine-learning-ex4/ex4/ex4data1.mat')\n",
    "\n",
    "X = np.array(data['X'])\n",
    "Y = np.array(data['y'])\n",
    "#Y[Y == 10] = 0\n",
    "Y = Y - 1\n",
    "#X = np.c_[np.ones(5000), X]\n",
    "\n",
    "print(\"X:\", X.shape, \"Y:\", Y.shape)"
   ]
  },
  {
   "cell_type": "code",
   "execution_count": 71,
   "metadata": {},
   "outputs": [
    {
     "name": "stdout",
     "output_type": "stream",
     "text": [
      "W1: (25, 401) W2: (10, 26)\n"
     ]
    }
   ],
   "source": [
    "weight_all = sio.loadmat('./machine-learning-ex4/ex4/ex4weights.mat')\n",
    "\n",
    "W1 = np.array(weight_all['Theta1'])\n",
    "W2 = np.array(weight_all['Theta2'])\n",
    "print(\"W1:\", W1.shape, \"W2:\", W2.shape)"
   ]
  },
  {
   "cell_type": "code",
   "execution_count": 212,
   "metadata": {
    "scrolled": true
   },
   "outputs": [
    {
     "name": "stdout",
     "output_type": "stream",
     "text": [
      "0.38448779624289375\n",
      "Delta (25, 401) (10, 26)\n"
     ]
    },
    {
     "ename": "ValueError",
     "evalue": "shapes (5000,25) and (5000,25) not aligned: 25 (dim 1) != 5000 (dim 0)",
     "output_type": "error",
     "traceback": [
      "\u001b[1;31m---------------------------------------------------------------------------\u001b[0m",
      "\u001b[1;31mValueError\u001b[0m                                Traceback (most recent call last)",
      "\u001b[1;32m<ipython-input-212-abc0181b1983>\u001b[0m in \u001b[0;36m<module>\u001b[1;34m()\u001b[0m\n\u001b[0;32m     92\u001b[0m     \u001b[0mbackpropagation\u001b[0m\u001b[1;33m(\u001b[0m\u001b[0mweight_all\u001b[0m\u001b[1;33m,\u001b[0m \u001b[0mx\u001b[0m\u001b[1;33m,\u001b[0m \u001b[0my\u001b[0m\u001b[1;33m,\u001b[0m \u001b[0mm\u001b[0m\u001b[1;33m,\u001b[0m \u001b[0m_lambda\u001b[0m\u001b[1;33m,\u001b[0m \u001b[0ma\u001b[0m\u001b[1;33m,\u001b[0m \u001b[0mz\u001b[0m\u001b[1;33m)\u001b[0m\u001b[1;33m\u001b[0m\u001b[0m\n\u001b[0;32m     93\u001b[0m \u001b[1;33m\u001b[0m\u001b[0m\n\u001b[1;32m---> 94\u001b[1;33m \u001b[0mmain\u001b[0m\u001b[1;33m(\u001b[0m\u001b[1;33m)\u001b[0m\u001b[1;33m\u001b[0m\u001b[0m\n\u001b[0m",
      "\u001b[1;32m<ipython-input-212-abc0181b1983>\u001b[0m in \u001b[0;36mmain\u001b[1;34m()\u001b[0m\n\u001b[0;32m     90\u001b[0m \u001b[1;33m\u001b[0m\u001b[0m\n\u001b[0;32m     91\u001b[0m     \u001b[0mgenRandThetas\u001b[0m\u001b[1;33m(\u001b[0m\u001b[0mweight_all\u001b[0m\u001b[1;33m)\u001b[0m\u001b[1;33m\u001b[0m\u001b[0m\n\u001b[1;32m---> 92\u001b[1;33m     \u001b[0mbackpropagation\u001b[0m\u001b[1;33m(\u001b[0m\u001b[0mweight_all\u001b[0m\u001b[1;33m,\u001b[0m \u001b[0mx\u001b[0m\u001b[1;33m,\u001b[0m \u001b[0my\u001b[0m\u001b[1;33m,\u001b[0m \u001b[0mm\u001b[0m\u001b[1;33m,\u001b[0m \u001b[0m_lambda\u001b[0m\u001b[1;33m,\u001b[0m \u001b[0ma\u001b[0m\u001b[1;33m,\u001b[0m \u001b[0mz\u001b[0m\u001b[1;33m)\u001b[0m\u001b[1;33m\u001b[0m\u001b[0m\n\u001b[0m\u001b[0;32m     93\u001b[0m \u001b[1;33m\u001b[0m\u001b[0m\n\u001b[0;32m     94\u001b[0m \u001b[0mmain\u001b[0m\u001b[1;33m(\u001b[0m\u001b[1;33m)\u001b[0m\u001b[1;33m\u001b[0m\u001b[0m\n",
      "\u001b[1;32m<ipython-input-212-abc0181b1983>\u001b[0m in \u001b[0;36mbackpropagation\u001b[1;34m(w, x, y, m, _lambda, a, z)\u001b[0m\n\u001b[0;32m     61\u001b[0m     \u001b[0mdelta3\u001b[0m \u001b[1;33m=\u001b[0m \u001b[0ma3\u001b[0m \u001b[1;33m-\u001b[0m \u001b[0my\u001b[0m \u001b[1;31m# (5000, 10)\u001b[0m\u001b[1;33m\u001b[0m\u001b[0m\n\u001b[0;32m     62\u001b[0m     \u001b[1;31m#print(w[1].T[1:].shape)\u001b[0m\u001b[1;33m\u001b[0m\u001b[1;33m\u001b[0m\u001b[0m\n\u001b[1;32m---> 63\u001b[1;33m     \u001b[0mprint\u001b[0m\u001b[1;33m(\u001b[0m\u001b[1;34m\"ASDAS\"\u001b[0m\u001b[1;33m,\u001b[0m\u001b[0msigmoidGradient\u001b[0m\u001b[1;33m(\u001b[0m\u001b[0mz2\u001b[0m\u001b[1;33m)\u001b[0m\u001b[1;33m.\u001b[0m\u001b[0mshape\u001b[0m\u001b[1;33m)\u001b[0m\u001b[1;33m\u001b[0m\u001b[0m\n\u001b[0m\u001b[0;32m     64\u001b[0m \u001b[1;31m#     delta2 = np.matmul(w[1].T[1:], delta3.T )\u001b[0m\u001b[1;33m\u001b[0m\u001b[1;33m\u001b[0m\u001b[0m\n\u001b[0;32m     65\u001b[0m \u001b[1;31m#     Delta[0] += delta2.dot(a[0].T)\u001b[0m\u001b[1;33m\u001b[0m\u001b[1;33m\u001b[0m\u001b[0m\n",
      "\u001b[1;32m<ipython-input-212-abc0181b1983>\u001b[0m in \u001b[0;36msigmoidGradient\u001b[1;34m(z)\u001b[0m\n\u001b[0;32m     33\u001b[0m \u001b[1;32mdef\u001b[0m \u001b[0msigmoidGradient\u001b[0m\u001b[1;33m(\u001b[0m\u001b[0mz\u001b[0m\u001b[1;33m)\u001b[0m\u001b[1;33m:\u001b[0m\u001b[1;33m\u001b[0m\u001b[0m\n\u001b[0;32m     34\u001b[0m     \u001b[0ma\u001b[0m \u001b[1;33m=\u001b[0m \u001b[0msigmoid\u001b[0m\u001b[1;33m(\u001b[0m\u001b[0mz\u001b[0m\u001b[1;33m)\u001b[0m\u001b[1;33m\u001b[0m\u001b[0m\n\u001b[1;32m---> 35\u001b[1;33m     \u001b[1;32mreturn\u001b[0m \u001b[0mnp\u001b[0m\u001b[1;33m.\u001b[0m\u001b[0mmatmul\u001b[0m\u001b[1;33m(\u001b[0m\u001b[0ma\u001b[0m\u001b[1;33m,\u001b[0m \u001b[1;33m(\u001b[0m\u001b[1;36m1\u001b[0m \u001b[1;33m-\u001b[0m \u001b[0ma\u001b[0m\u001b[1;33m)\u001b[0m\u001b[1;33m)\u001b[0m\u001b[1;33m\u001b[0m\u001b[0m\n\u001b[0m\u001b[0;32m     36\u001b[0m \u001b[1;33m\u001b[0m\u001b[0m\n\u001b[0;32m     37\u001b[0m \u001b[1;32mdef\u001b[0m \u001b[0mgenRandThetas\u001b[0m\u001b[1;33m(\u001b[0m\u001b[0mw\u001b[0m\u001b[1;33m)\u001b[0m\u001b[1;33m:\u001b[0m\u001b[1;33m\u001b[0m\u001b[0m\n",
      "\u001b[1;31mValueError\u001b[0m: shapes (5000,25) and (5000,25) not aligned: 25 (dim 1) != 5000 (dim 0)"
     ]
    }
   ],
   "source": [
    "def sigmoid(z):\n",
    "    return 1 / (1 + np.exp(-z))\n",
    "\n",
    "def hypothesis(w, x):\n",
    "    return sigmoid(np.matmul(x, w.T))\n",
    "\n",
    "def feedforward(w, x, m):\n",
    "    a = np.c_[np.ones(m), x]\n",
    "    z = np.matmul(a, w.T)\n",
    "    return sigmoid(z), z\n",
    "\n",
    "def neuralNetCostFucntion(x, y, w, m, K, L, _lambda):   \n",
    "    a = [np.c_[np.ones(m), x]]\n",
    "    z = []\n",
    "    for i in range(L - 1):\n",
    "        x, tmp = feedforward(w[i], x, m)\n",
    "        a.append(x)\n",
    "        z.append(tmp)\n",
    "    hx = x.T\n",
    "    \n",
    "    cost = 0\n",
    "    for i in range(m):\n",
    "        cost += -np.sum(np.matmul(y[i], np.log(hx[:,i:i+1])) + np.matmul((1 - y[i]), np.log(1 - hx[:,i:i+1])))\n",
    "    cost /= m\n",
    "    \n",
    "    regularizationTerm = 0\n",
    "    for i in range(L - 1):\n",
    "        regularizationTerm += np.sum(np.square(w[i]))\n",
    "    regularizationTerm *= float(_lambda) / (2*m)\n",
    "\n",
    "    return cost + regularizationTerm, a, z\n",
    "\n",
    "def sigmoidGradient(z):\n",
    "    a = sigmoid(z)\n",
    "    return np.matmul(a, (1 - a))\n",
    "\n",
    "def genRandThetas(w):\n",
    "    epsilon_init = 0.12\n",
    "    rand_thetas = []\n",
    "    for weight in w:\n",
    "        tmp = (len(weight), len(weight[0]))\n",
    "        rand_thetas.append(np.random.rand(*tmp) * 2 * epsilon_init - epsilon_init)\n",
    "        \n",
    "    return rand_thetas\n",
    "\n",
    "def backpropagation(w, x, y, m, _lambda, a, z):\n",
    "    \n",
    "    Delta = []\n",
    "    for weight in w:\n",
    "        Delta.append(np.zeros((len(weight), len(weight[0]))))\n",
    "        \n",
    "    Delta = np.array(Delta)\n",
    "    print(\"Delta\", Delta[0].shape, Delta[1].shape)\n",
    "    \n",
    "    a1 = a[0] # (5000, 401)\n",
    "    z2 = z[0] # (5000, 25)\n",
    "    a2 = a[1] # (5000, 25)\n",
    "    z3 = z[1] # (5000, 10)\n",
    "    a3 = a[2] # (5000, 10)\n",
    " \n",
    "    delta3 = a3 - y # (5000, 10)\n",
    "    \n",
    "    # TODO : sigmoid Gradient 부터 고쳐야함\n",
    "    \n",
    "    print(\"ASDAS\",sigmoidGradient(z2).shape)\n",
    "    delta2 = np.matmul(w[1].T[1:], delta3.T )\n",
    "    Delta[0] += delta2.dot(a[0].T)\n",
    "    Delta[1] += delta3.dot(a[1].T)\n",
    "    \n",
    "    D1 = Delta[0] / m\n",
    "    D2 = Delta[1] / m\n",
    "    \n",
    "def main():\n",
    "    x = X\n",
    "    y = np.eye(10)[Y]\n",
    "    y = y.reshape((-1, 10)) # (5000, 10)\n",
    "    \n",
    "    w1 = W1\n",
    "    w2 = W2\n",
    "    \n",
    "    m = len(x)\n",
    "    n = len(x[0])\n",
    "    LayerCnt = 3\n",
    "    K = 10\n",
    "    _lambda = 1\n",
    "    \n",
    "    weight_all = [ w1, w2 ]\n",
    "    \n",
    "    cost, a, z = neuralNetCostFucntion(x, y, weight_all, m, K, LayerCnt, _lambda)\n",
    "    \n",
    "    print(cost)\n",
    "    \n",
    "    genRandThetas(weight_all)\n",
    "    backpropagation(weight_all, x, y, m, _lambda, a, z)\n",
    "    \n",
    "main()"
   ]
  },
  {
   "cell_type": "code",
   "execution_count": null,
   "metadata": {},
   "outputs": [],
   "source": []
  }
 ],
 "metadata": {
  "kernelspec": {
   "display_name": "Python 3",
   "language": "python",
   "name": "python3"
  },
  "language_info": {
   "codemirror_mode": {
    "name": "ipython",
    "version": 3
   },
   "file_extension": ".py",
   "mimetype": "text/x-python",
   "name": "python",
   "nbconvert_exporter": "python",
   "pygments_lexer": "ipython3",
   "version": "3.6.4"
  }
 },
 "nbformat": 4,
 "nbformat_minor": 2
}
