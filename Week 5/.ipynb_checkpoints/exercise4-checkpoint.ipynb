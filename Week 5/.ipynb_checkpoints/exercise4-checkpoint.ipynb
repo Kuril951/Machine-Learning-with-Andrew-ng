{
 "cells": [
  {
   "cell_type": "code",
   "execution_count": 2,
   "metadata": {},
   "outputs": [],
   "source": [
    "import numpy as np\n",
    "import matplotlib.pyplot as plt\n",
    "import pandas as pd\n",
    "import scipy.io as sio\n",
    "import scipy.misc #Used to show matrix as an image\n",
    "import matplotlib.cm as cm #Used to display images in a specific colormap\n",
    "import random #To pick random images to display\n",
    "import scipy.optimize #fmin_cg to train neural network\n",
    "\n",
    "%matplotlib inline"
   ]
  },
  {
   "cell_type": "code",
   "execution_count": 98,
   "metadata": {},
   "outputs": [
    {
     "name": "stdout",
     "output_type": "stream",
     "text": [
      "X: (5000, 400) Y: (5000, 1)\n"
     ]
    }
   ],
   "source": [
    "data = sio.loadmat('./machine-learning-ex4/ex4/ex4data1.mat')\n",
    "\n",
    "X = np.array(data['X'])\n",
    "Y = np.array(data['y'])\n",
    "#Y[Y == 10] = 0\n",
    "Y = Y - 1\n",
    "#X = np.c_[np.ones(5000), X]\n",
    "\n",
    "print(\"X:\", X.shape, \"Y:\", Y.shape)"
   ]
  },
  {
   "cell_type": "code",
   "execution_count": 71,
   "metadata": {},
   "outputs": [
    {
     "name": "stdout",
     "output_type": "stream",
     "text": [
      "W1: (25, 401) W2: (10, 26)\n"
     ]
    }
   ],
   "source": [
    "weight_all = sio.loadmat('./machine-learning-ex4/ex4/ex4weights.mat')\n",
    "\n",
    "W1 = np.array(weight_all['Theta1'])\n",
    "W2 = np.array(weight_all['Theta2'])\n",
    "print(\"W1:\", W1.shape, \"W2:\", W2.shape)"
   ]
  },
  {
   "cell_type": "code",
   "execution_count": 144,
   "metadata": {},
   "outputs": [
    {
     "name": "stdout",
     "output_type": "stream",
     "text": [
      "0.38448779624289375\n",
      "(25, 401)\n",
      "(10, 26)\n"
     ]
    }
   ],
   "source": [
    "def sigmoid(z):\n",
    "    return 1 / (1 + np.exp(-z))\n",
    "\n",
    "def hypothesis(w, x):\n",
    "    return sigmoid(np.matmul(x, w.T))\n",
    "\n",
    "def feedforward(w, x, m):\n",
    "    a = np.c_[np.ones(m), x]\n",
    "    return sigmoid(np.matmul(a, w.T))\n",
    "\n",
    "def neuralNetCostFucntion(x, y, w, m, K, L, _lambda):\n",
    "    \n",
    "    for i in range(L - 1):\n",
    "        x = feedforward(w[i], x, m)\n",
    "    hx = x.T\n",
    "    cost = 0\n",
    "    for i in range(m):\n",
    "        cost += -np.sum(np.matmul(y[i], np.log(hx[:,i:i+1])) + np.matmul((1 - y[i]), np.log(1 - hx[:,i:i+1])))\n",
    "    cost /= m\n",
    "    \n",
    "    regularizationTerm = 0\n",
    "    for i in range(L - 1):\n",
    "        regularizationTerm += np.sum(np.square(w[i]))\n",
    "    regularizationTerm *= float(_lambda) / (2*m)\n",
    "\n",
    "    return cost + regularizationTerm\n",
    "\n",
    "def sigmoidGradient(z):\n",
    "    a = sigmoid(z)\n",
    "    return a * (1 - a)\n",
    "\n",
    "def genRandThetas(w):\n",
    "    epsilon_init = 0.12\n",
    "    rand_thetas = []\n",
    "    for weight in w:\n",
    "        print(weight.shape)\n",
    "        tmp = (len(weight[0]), len(weight))\n",
    "        rand_thetas.append(np.random.rand( *tmp) * 2 * epsilon_init - epsilon_init)\n",
    "        \n",
    "    return rand_thetas\n",
    "\n",
    "def main():\n",
    "    x = X\n",
    "    y = np.eye(10)[Y]\n",
    "    y = y.reshape((-1, 10)) # (5000, 10)\n",
    "    \n",
    "    w1 = W1\n",
    "    w2 = W2\n",
    "    \n",
    "    m = len(x)\n",
    "    n = len(x[0])\n",
    "    LayerCnt = 3\n",
    "    K = 10\n",
    "    _lambda = 1\n",
    "    \n",
    "    weight_all = [ w1, w2 ]\n",
    "    \n",
    "    cost = neuralNetCostFucntion(x, y, weight_all, m, K, LayerCnt, _lambda)\n",
    "    \n",
    "    print(cost)\n",
    "    \n",
    "    genRandThetas(weight_all)\n",
    "    \n",
    "main()"
   ]
  },
  {
   "cell_type": "code",
   "execution_count": null,
   "metadata": {},
   "outputs": [],
   "source": []
  }
 ],
 "metadata": {
  "kernelspec": {
   "display_name": "Python 3",
   "language": "python",
   "name": "python3"
  },
  "language_info": {
   "codemirror_mode": {
    "name": "ipython",
    "version": 3
   },
   "file_extension": ".py",
   "mimetype": "text/x-python",
   "name": "python",
   "nbconvert_exporter": "python",
   "pygments_lexer": "ipython3",
   "version": "3.6.4"
  }
 },
 "nbformat": 4,
 "nbformat_minor": 2
}
