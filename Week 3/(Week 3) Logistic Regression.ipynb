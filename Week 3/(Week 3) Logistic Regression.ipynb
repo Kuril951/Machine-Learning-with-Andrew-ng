{
 "cells": [
  {
   "cell_type": "markdown",
   "metadata": {},
   "source": [
    "# Classification and Representation\n",
    "\n",
    "## Classification\n",
    "\n",
    "- linear regression in classification doesn't work well \n",
    "- because **classification is not actually a linear function**\n",
    "  - Email : spam or not\n",
    "  - Tumor : malignant or benign\n",
    "- classification problem is just like the regression problem\n",
    "\n",
    "\n",
    "\n",
    "## Logistic Regression Model\n",
    "\n",
    "- we want 0 $\\le$ h(x) $\\le$ 1\n",
    "\n",
    "  - $h_\\theta(x) = g(\\theta^Tx)$   ->   $g(z) = {1 \\over {1 + e^{-z}}}$\n",
    "\n",
    "  - $h_\\theta(x) = {1 \\over {1 + e^{-\\theta^Tx}}}$\n",
    "\n",
    "    <br>\n",
    "\n",
    "- Sigmoid function ( Logistic function )\n",
    "\n",
    "  - $g(z) = {1 \\over {1 + e^{-z}}}$\n",
    "  - predict y = 1 if $h_\\theta(x) \\ge 0.5\\quad$ -> $\\quad\\theta^Tx \\ge 0$\n",
    "  - predict y = 0 if $h_\\theta(x) \\le 0.5\\quad$ -> $\\quad\\theta^Tx < 0$"
   ]
  },
  {
   "cell_type": "code",
   "execution_count": 32,
   "metadata": {},
   "outputs": [],
   "source": [
    "import numpy as np\n",
    "import matplotlib.pyplot as plt\n",
    "import math\n",
    "%matplotlib inline"
   ]
  },
  {
   "cell_type": "code",
   "execution_count": 13,
   "metadata": {},
   "outputs": [
    {
     "data": {
      "text/plain": [
       "(-0.1, 1)"
      ]
     },
     "execution_count": 13,
     "metadata": {},
     "output_type": "execute_result"
    },
    {
     "data": {
      "image/png": "[encoded data removed]",
      "text/plain": [
       "<Figure size 432x288 with 1 Axes>"
      ]
     },
     "metadata": {},
     "output_type": "display_data"
    }
   ],
   "source": [
    "def sigmoid(z):\n",
    "    return 1 / (1 + np.exp(-z))\n",
    "\n",
    "x = np.arange(-5.0, 5.0, 0.1)\n",
    "y = sigmoid(x)\n",
    "plt.grid()\n",
    "plt.plot(x, y)\n",
    "plt.ylim(-0.1, 1)"
   ]
  },
  {
   "cell_type": "markdown",
   "metadata": {},
   "source": [
    "### Interpretation of Hypothesis Output\n",
    "\n",
    "- $h_\\theta(x)$ = estimated probability that y = 1 on input x\n",
    "- ex.\n",
    "  - If $x = \\begin{bmatrix} x_0 \\\\ x_1 \\end{bmatrix} = \\begin{bmatrix} 1 \\\\ tumorSize \\end{bmatrix} (h_\\theta(x) = 0.7)$\n",
    "    - Tell patient that 70% chance of tumor being malignant\n",
    "  - $h_\\theta(x) = P(y=1 | x; \\theta)$\n",
    "    - probability that y = 1, given x, parameterized $\\theta$\n",
    "    - $ P(y=0 | x; \\theta) +  P(y=1 | x; \\theta) = 1$\n",
    "\n",
    "\n",
    "\n",
    "### Decision Boundary\n",
    "\n",
    "- The line separates the area where y = 0 and where y = 1\n",
    "\n",
    "- It is created by our hypothesis function\n",
    "\n",
    "  ![1528439999487](./img/1528439999487.png)\n",
    "\n",
    "  - $h_\\theta(x) = g(\\theta_0 + \\theta_1x_1 + \\theta_2x_2) \\ \\ \\ \\ \\theta = \\begin{bmatrix} -3 \\\\ 1 \\\\ 1 \\end{bmatrix}$\n",
    "\n",
    "    - Predict y = 1 if $-3 + x_1 + x_2 \\ge 0 \\to x_1 + x_2 = 3$\n",
    "\n",
    "    - So,  green line is **decision boundary**\n",
    "\n",
    "      <br>\n",
    "\n",
    "      ![1528440140303](./img/1528440140303.png)\n",
    "\n",
    "  - $h_\\theta(x) = g(\\theta_0 + \\theta_1x_1 + \\theta_2x_2 + \\theta_1x_1^2 + \\theta_2x_2^2) \\ \\ \\ \\ \\theta = \\begin{bmatrix} -1 \\\\ 0 \\\\ 0 \\\\ 1 \\\\ 1 \\end{bmatrix}$\n",
    "\n",
    "  - Predict y = 1 if $-1 + x_1^2 + x_2^2 \\ge 0 \\to x_1^2 + x_2^2 = 1$\n",
    "\n",
    "    - So, green line is **decision boundary**\n",
    "    - **The input to sigimoid function g(z) (e.g. $\\theta^TX$) doesn't need to linear**\n",
    "\n",
    "    "
   ]
  },
  {
   "cell_type": "markdown",
   "metadata": {},
   "source": [
    "## Logistic Regression Model\n",
    "\n",
    "### cost function\n",
    "\n",
    "- #### Linear regression\n",
    "\n",
    "  - $J(\\theta) = {1 \\over m} {\\sum_{i=1}^m}{1 \\over 2} {(h_\\theta(x^{(i)})-y^{(i)})}^2$\n",
    "  - $cost(h_\\theta(x^{i}), y^{(i)}) = {1 \\over 2}(h_\\theta(x^{i}) - y^{(i)})^2$\n",
    "    - $\\to cost(h_\\theta(x), y) = {1 \\over 2}(h_\\theta(x) - y)^2$\n",
    "    ![convex](./img/convex.png)\n",
    "- #### Logistic regression\n",
    "\n",
    "  - $h_\\theta(x) = {1 \\over {1 + e^{-\\theta^Tx}}}$ (non - linear function)\n",
    "  - many local minimum\n",
    "  - not guarantee converge global minimum\n",
    "![non-convex](./img/non-convex.png)\n",
    "\n",
    "- So, we **cannot use the same cost function** that we use for linear regression.\n",
    "  - because the logistic function will cause the output to be wavy, causing many optima.\n",
    "  - **Not convex function**\n",
    "\n"
   ]
  },
  {
   "cell_type": "markdown",
   "metadata": {},
   "source": [
    "## Logistic regression cost function\n",
    "\n",
    "- $cost(h(x), y) = \\begin{cases} -log(h_\\theta(x)), & \\mbox{if }y = 1 \\\\ -log(1 - h_\\theta(x)), & \\mbox{if } y = 0 \\end{cases}$\n",
    "\n",
    "  - $0 \\le h_\\theta(x) \\le 1 \\quad (h_\\theta(x) \\mbox{ is sigmoid function})$\n",
    "\n",
    "- $cost(h_\\theta(x), y) = -ylog(h_\\theta(x)) - (1 - y)log(1 - h_\\theta(x))$\n",
    "\n",
    "- $J(\\theta) = {1 \\over m}{\\sum_{i=1}^m}cost(h_\\theta(x^{(i)}), y^{(i)}) = -{1 \\over m}[{\\sum_{i=1}^m}{-y^{(i)}log(h_\\theta(x^{(i)})) - (1 - y^{(i)})log(1 - h_\\theta(x^{(i)}))}]$\n",
    "\n",
    "- #### vectorizied implementation\n",
    "\n",
    "  - $h = h(x\\theta)$\n",
    "\n",
    "  - $J(\\theta) = {1 \\over m}(-y^Tlog(h)-(1-y)^Tlog(1-h))$\n",
    "\n",
    "    "
   ]
  },
  {
   "cell_type": "code",
   "execution_count": 53,
   "metadata": {},
   "outputs": [
    {
     "data": {
      "text/plain": [
       "<matplotlib.legend.Legend at 0x240d5ccd278>"
      ]
     },
     "execution_count": 53,
     "metadata": {},
     "output_type": "execute_result"
    },
    {
     "data": {
      "image/png": "[encoded data removed]",
      "text/plain": [
       "<Figure size 432x288 with 1 Axes>"
      ]
     },
     "metadata": {},
     "output_type": "display_data"
    }
   ],
   "source": [
    "def logisticRegressionCostfunction(x, y):\n",
    "    return -y*np.log(x) - (1 - y)*np.log(1-x)\n",
    "\n",
    "x = np.arange(1e-6, 1.- 1e-6, 1e-6)\n",
    "y1 = logisticRegressionCostfunction(x, 1)\n",
    "y0 = logisticRegressionCostfunction(x, 0)\n",
    "plt.grid()\n",
    "plt.plot(x, y1, label='y=1')\n",
    "plt.plot(x, y0, label='y=0')\n",
    "plt.legend()"
   ]
  },
  {
   "cell_type": "markdown",
   "metadata": {},
   "source": [
    "#### Gardient Descent\n",
    "\n",
    "- Same the linear regression's gradient descent, just different h(x) : sigmoid function\n",
    "- $\\theta_j := \\theta_j - \\alpha{\\delta\\over \\delta\\theta_j}J(\\theta)$<br>\n",
    "  $\\quad\\;\\; = \\theta_j - \\alpha{1 \\over m}{\\sum_{i=1}^m } $(H<sub>&theta;</sub>(x<sup>(i)</sup>) - y<sup>(i)</sup>)x<sub>j</sub><sup>(i)</sup>$\\quad h_\\theta(x) = {1 \\over {1 + e^{-\\theta^Tx}}}$\n",
    "- vectorized implementation\n",
    "  - $\\theta := \\theta - {\\alpha \\over m}X^T(g(X\\theta) - \\vec{y})$\n",
    "  <br>\n",
    "  \n",
    "## Optimization Algorithms\n",
    "\n",
    "- Gradient descent\n",
    "- conjugate gradient, BFGS, L-BFGS\n",
    "  - No need to manually pick $\\alpha$\n",
    "  - Often faster than gradient descent\n",
    "  - algorithm is more complex"
   ]
  },
  {
   "cell_type": "markdown",
   "metadata": {},
   "source": [
    "## Multiclass Classification\n",
    "\n",
    "- have more than two categories (y = {0, 1, 2, ... , n})\n",
    "\n",
    "#### Over-vs-all\n",
    "\n",
    "- Train a logistic regression classifier $h_\\theta^{(i)}(x)$ for each class i to predict the probability that y = i\n",
    "\n",
    "<img src=\"./img/one-vs-all.png\" width=\"500\" height=\"300\">\n",
    "- On a new input x, to make a prediction, pick the class i that maximizes\n",
    "    - $max_i(h_\\theta^{(i)}(x))$"
   ]
  },
  {
   "cell_type": "markdown",
   "metadata": {},
   "source": [
    "#### Overfitting\n",
    "\n",
    "- **If we have too many features**, the learned hypothesis may **fit the training set very well ($J(\\theta) \\approx 0)$**, <br>but fail to generalize to new examples\n",
    "\n",
    "- our hypothesis is too fit to training set\n",
    "\n",
    "- ex\n",
    "\n",
    "  ![overfitting](./img/overfitting.png)\n",
    "\n",
    "  - img1\n",
    "\n",
    "    - underfitting, high bias\n",
    "    - 데이터에 관계없이 선형식에 맞추려다보니 값이 제대로 제대로 안나옴\n",
    "\n",
    "  - img2\n",
    "\n",
    "    - well fit\n",
    "\n",
    "  - img3\n",
    "\n",
    "    - overfitting, high variance\n",
    "\n",
    "    - trainning set에 너무 맞추려다보니 hypothesis가 다른 set에는 안맞을수 있음\n",
    "\n",
    "      <br>\n",
    "\n",
    "- In order to address overfitting\n",
    "\n",
    "  - Options\n",
    "    - Reduce number of features\n",
    "      - manually select which features to keep\n",
    "      - model selection algorithm (automatically throw features)\n",
    "    -  Regularization\n",
    "      - keep all the features, but reduce magnitude/values of parameters $\\theta_j$\n",
    "      - works well when we have a lot of features, each of which contirbutes a bit to predicting y"
   ]
  },
  {
   "cell_type": "markdown",
   "metadata": {},
   "source": [
    "#### Regularization ( linear regression )\n",
    "\n",
    "- small values for parameters $\\theta_0, \\theta_1, ..., \\theta_n$\n",
    "\n",
    "  - \"simpler\" hypothesis\n",
    "  - less prone to overfitting\n",
    "\n",
    "- Housing\n",
    "\n",
    "  - Features : $x_1, x_2, ..., x_n$\n",
    "  - Parameters : $\\theta_1, \\theta_2, ..., \\theta_n$\n",
    "\n",
    "- Cost function\n",
    "\n",
    "  - $J(\\theta) = {1 \\over 2m}[{\\sum_{i=1}^m}(h_\\theta(x^{(i)}) - y^{(i)})^2 + \\lambda\\sum_{j=1}^n\\theta_j^2]$\n",
    "\n",
    "- Hypothesis = $\\theta_0 + \\theta_1x + \\theta_2x^2 + \\theta_3x^3 + \\theta_4x^4$\n",
    "\n",
    "  - what if $\\lambda$ is set to an extremely large value? (perhaps for too large for our problem, say $\\lambda = 10^{10}$)\n",
    "    - $\\theta_1, \\theta_2, \\theta_3, \\theta_4 \\approx 0$\n",
    "    - So, $h_\\theta(x) = \\theta_0$\n",
    "    - **underfitting**\n",
    "  - $\\lambda$ determines how much the costs of our $\\theta$ parameters are inflated\n",
    "\n",
    "- Gradient descent\n",
    "\n",
    "  - $\\theta_0 := \\theta_0 - \\alpha{1 \\over m}\\sum_{i=1}^m(h_\\theta(x^{(i)}) - y^{(i)})x_0^{(i)}$\n",
    "\n",
    "  - $\\theta_j := \\theta_j - \\alpha[{1 \\over m}\\sum_{i=1}^m(h_\\theta(x^{(i)}) - y^{(i)})x_j^{(i)} + {\\lambda \\over m}\\theta_j] $\n",
    "\n",
    "    $\\qquad = \\theta_j(1 - \\alpha{1 \\over m}) - \\alpha{1 \\over m}\\sum_{i=1}^m(h_\\theta(x^{(i)}) - y^{(i)})x_j^{(i)}$\n",
    "\n",
    "    - $1 - \\alpha{1 \\over m} < 1$ (always)\n",
    "\n",
    "- Normal equation\n",
    "\n",
    "  - $\\theta = (X^TX + \\lambda[])^-1X^TY$ ( [] = (n x 1) * (n x 1) identity matrix)\n",
    "\n",
    "#### Regularized logistic regression\n",
    "\n",
    "- $h_\\theta(x) = g(\\theta_0 + \\theta_1x_1 + \\theta_2x_1^2 + \\theta_3x_1^2x_2 + ...)$  g(x) : sigmoid function\n",
    "- Cost function\n",
    "  - $J(\\theta)  = -[{1 \\over m}\\sum_{i = 1}^m y^{(i)}log(h_\\theta(x^{(i)})) + (1 - y^{(i)})log(1 - h_\\theta(x^{(i)}))] + {\\lambda \\over 2m}\\sum_{j = 1}^n \\theta_j^2$ \n",
    "- Gradient descent\n",
    "  - $\\theta_0 := \\theta_0 - \\alpha{1 \\over m}\\sum_{i=1}^m(h_\\theta(x^{(i)}) - y^{(i)})x_0^{(i)}$\n",
    "  - $\\theta_j := \\theta_j - \\alpha[{1 \\over m}\\sum_{i=1}^m(h_\\theta(x^{(i)}) - y^{(i)})x_j^{(i)} + {\\lambda \\over m}\\theta_j] $\n",
    "    - $h_\\theta(x) = {1 \\over {1 + e^{-\\theta^Tx}}}$"
   ]
  }
 ],
 "metadata": {
  "kernelspec": {
   "display_name": "Python 3",
   "language": "python",
   "name": "python3"
  },
  "language_info": {
   "codemirror_mode": {
    "name": "ipython",
    "version": 3
   },
   "file_extension": ".py",
   "mimetype": "text/x-python",
   "name": "python",
   "nbconvert_exporter": "python",
   "pygments_lexer": "ipython3",
   "version": "3.5.5"
  }
 },
 "nbformat": 4,
 "nbformat_minor": 2
}
