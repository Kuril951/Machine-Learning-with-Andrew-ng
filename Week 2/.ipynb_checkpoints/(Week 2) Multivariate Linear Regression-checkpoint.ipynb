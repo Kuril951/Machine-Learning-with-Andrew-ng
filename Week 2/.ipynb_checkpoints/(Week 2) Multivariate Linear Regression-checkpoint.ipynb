{
 "cells": [
  {
   "cell_type": "markdown",
   "metadata": {},
   "source": [
    "# Multivariate Linear Regression\n",
    "\n",
    "---\n",
    "\n",
    "## Multiple Features\n",
    "\n",
    "- ##### Notation\n",
    "\n",
    "  - **n**\t:\tnumber of features\n",
    "  - **m** = number of training examples\n",
    "  - **x<sup>i</sup>** = input (features) of i<sup>th</sup> training examples\n",
    "  - **x<sub>j</sub><sup>i</sup>** = value of feature j in i<sup>th</sup> training examples\n",
    "\n",
    "| <center>Size<br>x<sub>1</sub></center> | <center>Number of<br>bedrooms<br>x<sub>2</sub></center> | <center>Number of<br>floors<br>x<sub>3</sub></center> | <center>Age of<br>home<br>x<sub>4</sub></center> | <center>Price<br>y</center> |\n",
    "| :-------------------: | :------------------------------------: | :----------------------------------: | :-----------------------------: | :--------: |\n",
    "|         <center>2104</center>          |                   <center>5</center>                    |                  <center>1                   |               <center>45</center>                |    <center>460</center>     |\n",
    "|         <center>1416</center>          |                   <center>3</center>                    |                  <center>2                   |               <center>40</center>                |    <center>232</center>     |\n",
    "|         <center>1534</center>          |                   <center>3</center>                    |                  <center>2                   |               <center>30</center>                |    <center>315</center>     |\n",
    "|          ...          |                  ...                   |                 ...                  |               ...               |    ...     |\n",
    "\n",
    "  - E.g.\n",
    "      - x<sup>(2)</sup> = $ \\begin{bmatrix} 1416 \\\\\\ 3 \\\\\\ 2 \\\\\\ 40 \\end{bmatrix} \\qquad$   x<sup>(3)</sup> = $ \\begin{bmatrix} 1534 \\\\\\ 3 \\\\\\ 2 \\\\\\ 30 \\end{bmatrix}$\n",
    "  \n",
    "  <br><br>\n",
    "  \n",
    "  \n",
    "- ### Hypothesis\n",
    "\n",
    "    - #### H<sub>&theta;</sub>(x) = &theta;<sup>T</sup>x = &theta;<sub>0</sub>x<sub>0</sub> +  &theta;<sub>1</sub>x<sub>1</sub> +  &theta;<sub>2</sub>x<sub>2</sub> + &middot;&middot;&middot; +  &theta;<sub>n</sub>x<sub>n</sub>\n",
    "\n",
    "    - For convenience of notation, define x<sub>0</sub> = 1 (x<sub>0</sub><sup>(i)</sup> = 1) \n",
    "\n",
    "        <br>\n",
    "\n",
    "        - $ x = \\begin{bmatrix} x_0 \\\\\\ x_1 \\\\\\ x_2 \\\\\\ \\cdot  \\\\\\ \\cdot \\\\\\ \\cdot \\\\\\ x_n \\end{bmatrix} \\qquad \\theta =  \\begin{bmatrix} \\theta_0 \\\\\\ \\theta_1 \\\\\\ \\theta_2 \\\\\\ \\cdot  \\\\\\ \\cdot \\\\\\ \\cdot \\\\\\ \\theta_n \\end{bmatrix} $\n",
    "\n",
    "        <br>\n",
    "\n",
    "  - H<sub>&Theta;</sub>(x) : multivariate linear regression\n",
    "      - x :  n + 1 dimensional vector\n",
    "      - &theta; : n + 1 dimensional vector\n",
    "      <br><br>\n",
    "\n",
    "\n",
    "- ### Cost Function\n",
    "\n",
    "    - $ J(\\theta) = {1\\over 2m}{\\sum_{i=1}^m } $(H<sub>&theta;</sub>(x<sup>(i)</sup>) - y<sup>(i)</sup>)<sup>2</sup> $ \\; = \\; {1\\over 2m}{\\sum_{i=1}^m } $( &theta;<sup>T</sup>x<sup> (i)</sup> - y<sup> (i)</sup> )<sup>2</sup>\n",
    "\n",
    "    $\\qquad\\quad\\;\\;  = {1\\over 2m}{\\sum_{i=1}^m }(( \\sum_{j=0}^n$ &theta;<sub>j </sub>x<sub>j</sub><sup>(n)</sup> ) - y<sup>(i)</sup> )<sup>2</sup>\n",
    "\n",
    "- ### Gradient Descent\n",
    "    $\\quad$\\- **simultaneously update** for every j = 0,1,2, $\\cdots$,n\n",
    "\n",
    "   - $\\theta_j := \\theta_j - \\alpha{\\delta\\over \\delta\\theta_j}J(\\theta)$<br>\n",
    "$\\quad\\;\\; = \\theta_j - \\alpha{1 \\over m}{\\sum_{i=1}^m } $(H<sub>&theta;</sub>(x<sup>(i)</sup>) - y<sup>(i)</sup>)x<sub>j</sub><sup>(i)</sup>\n",
    "\n",
    "   - E.g.\n",
    "        - $\\theta_0 := \\theta_0 - \\alpha{1 \\over m}{\\sum_{i=1}^m } $(H<sub>&theta;</sub>(x<sup>(i)</sup>) - y<sup>(i)</sup>)x<sub>0</sub><sup>(i)</sup>\n",
    "        - $\\theta_1 := \\theta_1 - \\alpha{1 \\over m}{\\sum_{i=1}^m } $(H<sub>&theta;</sub>(x<sup>(i)</sup>) - y<sup>(i)</sup>)x<sub>1</sub><sup>(i)</sup>"
   ]
  },
  {
   "cell_type": "markdown",
   "metadata": {},
   "source": [
    "#### Example\n",
    "\n",
    "|  X1  |  X2  |  X3  |  Y   |\n",
    "| :--: | :--: | :--: | :--: |\n",
    "|  73  |  80  |  75  | 152  |\n",
    "|  93  |  88  |  93  | 185  |\n",
    "|  89  |  91  |  90  | 180  |\n",
    "|  96  |  98  | 100  | 196  |\n",
    "|  73  |  66  |  70  | 142  |"
   ]
  },
  {
   "cell_type": "markdown",
   "metadata": {},
   "source": [
    "### No Matrix\n",
    "   - use tensorflow"
   ]
  },
  {
   "cell_type": "code",
   "execution_count": 113,
   "metadata": {},
   "outputs": [
    {
     "name": "stdout",
     "output_type": "stream",
     "text": [
      "0 \tCost:  18700.41 \thypothesis:  [37.321842 33.874836 39.01619  43.31214  22.324919]\n",
      "200 \tCost:  29.780298 \thypothesis:  [158.13188 179.8746  182.45952 199.55399 133.85434]\n",
      "400 \tCost:  26.859913 \thypothesis:  [157.73361 180.14873 182.3389  199.45581 134.22328]\n",
      "600 \tCost:  24.23846 \thypothesis:  [157.35661 180.40826 182.22476 199.3624  134.57304]\n",
      "800 \tCost:  21.885168 \thypothesis:  [156.99974 180.654   182.1168  199.27351 134.90465]\n",
      "1000 \tCost:  19.772354 \thypothesis:  [156.66193 180.8867  182.0147  199.18889 135.21907]\n",
      "1200 \tCost:  17.87556 \thypothesis:  [156.3422  181.107   181.91809 199.10835 135.5172 ]\n",
      "1400 \tCost:  16.17256 \thypothesis:  [156.03952 181.31552 181.8267  199.0316  135.79982]\n",
      "1600 \tCost:  14.643259 \thypothesis:  [155.75305 181.51297 181.74028 198.95851 136.06787]\n",
      "1800 \tCost:  13.270025 \thypothesis:  [155.48195 181.69989 181.65857 198.88889 136.32207]\n",
      "2000 \tCost:  12.036756 \thypothesis:  [155.22537 181.87686 181.5813  198.82253 136.56313]\n"
     ]
    }
   ],
   "source": [
    "import tensorflow as tf\n",
    "\n",
    "x1_data = [73., 93., 89., 96., 73.]\n",
    "x2_data = [80., 88., 91., 98., 66.]\n",
    "x3_data = [75., 93., 90., 100., 70.]\n",
    "y_data = [152., 185., 180., 196., 142.]\n",
    "\n",
    "x1 = tf.placeholder(tf.float32)\n",
    "x2 = tf.placeholder(tf.float32)\n",
    "x3 = tf.placeholder(tf.float32)\n",
    "\n",
    "Y = tf.placeholder(tf.float32)\n",
    "\n",
    "w1 = tf.Variable(tf.random_normal([1]), name='w1')\n",
    "w2 = tf.Variable(tf.random_normal([1]), name='w2')\n",
    "w3 = tf.Variable(tf.random_normal([1]), name='w3')\n",
    "b = tf.Variable(tf.random_normal([1]), name='b')\n",
    "\n",
    "# hypothesis\n",
    "hypothesis = x1 * w1 + x2 * w2 + x3 * w3 + b\n",
    "\n",
    "# cost function\n",
    "cost = tf.reduce_mean(tf.square(hypothesis - Y))\n",
    "\n",
    "# gradient descent algorithm\n",
    "optimizer = tf.train.GradientDescentOptimizer(learning_rate=0.00001)\n",
    "train = optimizer.minimize(cost)\n",
    "\n",
    "# Training Start\n",
    "\n",
    "sess = tf.Session()\n",
    "\n",
    "sess.run(tf.global_variables_initializer())\n",
    "\n",
    "for step in range(2001):\n",
    "    cost_val, hy_val, _ = sess.run([cost, hypothesis, train], feed_dict={x1: x1_data, x2: x2_data, x3: x3_data, Y: y_data})\n",
    "    if step % 200 == 0:\n",
    "        print(step, \"\\tCost: \", cost_val, \"\\thypothesis: \", hy_val)"
   ]
  },
  {
   "cell_type": "markdown",
   "metadata": {},
   "source": [
    "### Use Matrix"
   ]
  },
  {
   "cell_type": "code",
   "execution_count": 11,
   "metadata": {},
   "outputs": [
    {
     "name": "stdout",
     "output_type": "stream",
     "text": [
      "[152. 185. 180. 196. 142.]\n"
     ]
    },
    {
     "data": {
      "text/plain": [
       "Text(0.5,1,'cost function')"
      ]
     },
     "execution_count": 11,
     "metadata": {},
     "output_type": "execute_result"
    },
    {
     "data": {
      "image/png": "[encoded data removed]",
      "text/plain": [
       "<Figure size 576x360 with 1 Axes>"
      ]
     },
     "metadata": {},
     "output_type": "display_data"
    }
   ],
   "source": [
    "import numpy as np\n",
    "import matplotlib.pyplot as plt\n",
    "%matplotlib inline\n",
    "\n",
    "data = np.array([[73., 80., 75., 152.],\n",
    "                 [93., 88., 93., 185.], \n",
    "                 [89., 91., 90., 180.], \n",
    "                 [96., 98., 100., 196.],\n",
    "                 [73., 66., 70., 142.]])\n",
    "\n",
    "X = np.array(data[:,:-1])  # [None, 3]\n",
    "Y = np.array(data[:, -1])  # [None, 1]\n",
    "\n",
    "# np.random.normal(평균, 표준편차, 배열크기)\n",
    "W = np.random.normal(0, 2, (3, 1))\n",
    "b = np.random.normal(0, 2, (1))\n",
    "\n",
    "learning_rate = 1e-6   # alpha\n",
    "step_cnt = 20\n",
    "\n",
    "m = len(X)  # training example Cnt\n",
    "\n",
    "plt_step = np.zeros(step_cnt)\n",
    "plt_cost = np.zeros(step_cnt)\n",
    "\n",
    "# H(x)\n",
    "for step in range(0, step_cnt):\n",
    "    hypothesis = np.add(np.dot(X, W), b)\n",
    "    \n",
    "    cost = np.dot(1/(2*m), np.sum(np.square(np.subtract(hypothesis, Y))))\n",
    "\n",
    "    plt_step[step] = step\n",
    "    plt_cost[step] = cost\n",
    "    \n",
    "    W_gradient = learning_rate * 1/m * np.sum(np.dot(np.subtract(hypothesis, Y), X))\n",
    "    b_gradient = learning_rate * 1/m * np.sum(np.subtract(hypothesis, Y))\n",
    "    \n",
    "    W = np.subtract(W, W_gradient)\n",
    "    b = np.subtract(b, b_gradient)\n",
    "    \n",
    "    \n",
    "plt.figure(figsize=(8, 5))\n",
    "plt.plot(plt_step, plt_cost)\n",
    "plt.xlabel('step')\n",
    "plt.ylabel('cost')\n",
    "plt.title('cost function')"
   ]
  },
  {
   "cell_type": "markdown",
   "metadata": {},
   "source": [
    "- use tensorflow"
   ]
  },
  {
   "cell_type": "code",
   "execution_count": 107,
   "metadata": {},
   "outputs": [
    {
     "data": {
      "text/plain": [
       "Text(0.5,1,'cost function')"
      ]
     },
     "execution_count": 107,
     "metadata": {},
     "output_type": "execute_result"
    },
    {
     "data": {
      "image/png": "[encoded data removed]",
      "text/plain": [
       "<Figure size 576x360 with 1 Axes>"
      ]
     },
     "metadata": {},
     "output_type": "display_data"
    }
   ],
   "source": [
    "import tensorflow as tf\n",
    "import matplotlib.pyplot as plt\n",
    "%matplotlib inline\n",
    "\n",
    "x_data = [[73, 80, 75],\n",
    "          [93, 88, 93], \n",
    "          [89, 91, 90], \n",
    "          [96, 98, 100],\n",
    "          [73, 66, 70]]\n",
    "\n",
    "y_data = [[152],\n",
    "          [185],\n",
    "          [180],\n",
    "          [196],\n",
    "          [142]]\n",
    "\n",
    "X = tf.placeholder(tf.float32, shape=[None, 3])\n",
    "Y = tf.placeholder(tf.float32, shape=[None, 1])\n",
    "\n",
    "W = tf.Variable(tf.random_normal([3, 1]), name='Weight')\n",
    "b = tf.Variable(tf.random_normal([1]), name='bias')\n",
    "\n",
    "step_cnt = 2001\n",
    "plt_step = np.zeros(step_cnt)\n",
    "plt_cost = np.zeros(step_cnt)\n",
    "\n",
    "# hypothesis\n",
    "hypothesis = tf.matmul(X, W) + b\n",
    "\n",
    "# cost function\n",
    "cost = tf.reduce_mean(tf.square(hypothesis - Y))\n",
    "\n",
    "# gradient descent algorithm\n",
    "optimizer = tf.train.GradientDescentOptimizer(learning_rate=1e-7)\n",
    "train = optimizer.minimize(cost)\n",
    "\n",
    "# Training Start\n",
    "\n",
    "sess = tf.Session()\n",
    "\n",
    "sess.run(tf.global_variables_initializer())\n",
    "\n",
    "for step in range(step_cnt):\n",
    "    cost_val, hy_val, _ = sess.run([cost, hypothesis, train], feed_dict={X: x_data, Y: y_data})\n",
    "    plt_step[step] = step\n",
    "    plt_cost[step] = cost_val\n",
    "    \n",
    "    '''\n",
    "    if step % 200 == 0:\n",
    "        print(step, \"\\tCost: \", cost_val, \"\\nPrediction:\\n\", hy_val, \"\\n\")\n",
    "    '''\n",
    "    \n",
    "plt.figure(figsize=(8, 5))\n",
    "plt.plot(plt_step, plt_cost)\n",
    "plt.xlabel('step')\n",
    "plt.ylabel('cost')\n",
    "plt.title('cost function')"
   ]
  },
  {
   "cell_type": "markdown",
   "metadata": {},
   "source": [
    "## Feature Scaling\n",
    "\n",
    "- ### Feature Scaling\n",
    "\n",
    "  - Need to speed up for find global optimum\n",
    "\n",
    "  - Idea : Make sure features are on a **similar scale** (approximately)\n",
    "\n",
    "    - if each feature are **similar scale**, to find more easier\n",
    "\n",
    "  - $ x_i = {x_i \\over (maxScale - minScale)} $\n",
    "\n",
    "  - E.g.\n",
    "\n",
    "    - x<sub>1</sub> = size ( 0 - 2000 feet<sup>2</sup>)\n",
    "    - x<sub>2</sub> = number of bedrooms\n",
    "    - //todo : draw graph\n",
    "\n",
    "    \n",
    "\n",
    "  - range : $ -1 \\le x_i \\le 1 $\n",
    "\n",
    "  - $x_i$ 가 정확히 -1, 1 사이에 존재할 필요 없음\n",
    "\n",
    "  - **approximately same scale** of all features is ok\n",
    "  - E.g\n",
    "      - $ 0 \\le x_i \\le 3 $\t    ( o )\n",
    "      - $ -2 \\le x_i \\le 0.5 $   ( o )\n",
    "      - $ -100 \\le x_i \\le 100 $ ( x ) too big\n",
    "      - $ -0.0001 \\le x_i \\le 0.0001 $ (x)  too small\n",
    "      - Andrew ng professor say, $ -3 \\sim 3, {-1\\over 3} \\sim {1\\over 3} $ is fine"
   ]
  },
  {
   "cell_type": "markdown",
   "metadata": {},
   "source": [
    "## Mean normalization\n",
    "\n",
    "- #### Replace $x_i$ with $x_i - \\mu _i$ to make features have approximately zero mean (Do not apply to $x_0$ = 1)\n",
    "\n",
    "\n",
    "  - **$x_i = {x_i - \\mu_i \\over s_i}$**\n",
    "\n",
    "    - $\\mu _i$ : average value of $x_i$ in training set\n",
    "\n",
    "    - $s_i$ : value of range ( $maxx_i - minx_i$) or standard deviation\n",
    "    \n",
    "\n",
    "  - **E.g.** \n",
    "\n",
    "    - -1000 $\\leq x_1 \\leq$ 2000 ( $x$ = [-1000, 200, 1000, 2000] )\n",
    "\n",
    "    - $x_1 = {x_1 - 1100 \\over 3000}$\n",
    "\n",
    "      "
   ]
  },
  {
   "cell_type": "markdown",
   "metadata": {},
   "source": [
    "## Computing Prarameters Analytically\n",
    "\n",
    "### Normal Equation\n",
    "\n",
    "- Method to solve for $\\theta$ **analytically**\n",
    "\n",
    "- **No need to many iterations, we find optimum at once**\n",
    "\n",
    "  - $\\theta = (X^TX)^{-1}X^TY$\n",
    "\n",
    "- **No need to do feature scaling**\n",
    "\n",
    "  - some linear regression problems will give us a much better way \n",
    "\n",
    "  - to solve for the optimal value of the parameters $\\theta$\n",
    "\n",
    "    \n",
    "\n",
    "- **Design matrix** (계획 행렬)\n",
    "\n",
    "  - 독립 변수를 묶어둔 행렬\n",
    "    - ex. \n",
    "      - $ x =  \\begin{bmatrix} 1 & a \\\\\\\\  1 & b \\\\\\\\ 1 & c \\\\\\\\ 1 & d \\end{bmatrix}$ \n",
    "\n",
    "- 기본 데이터에 새로운 데이터 $x_0$ = 1 을 넣어 행렬 X를 만듬\n",
    "\n",
    "- Features\n",
    "\n",
    "|    <center>Gradient Descent</center>     |      <center>Normal Equation</center>       |\n",
    "| :---------------------: | :------------------------: |\n",
    "| <center>Need to choose $\\alpha$</center> | <center>No need to choose $\\alpha$</center> |\n",
    "|  <center>Needs many iterations</center>  |     <center>No need to iterate</center>     |\n",
    "|        <center>$O(kn^2)$</center>        |          <center>$O(n^3)$</center>          |\n",
    "| <center>works well when n large</center> |   <center>slow if n is ver large</center>   |\n",
    "\n",
    "  - According to normal equation's time complexity, normal equation usually use n < 1000 ( my opinion )"
   ]
  }
 ],
 "metadata": {
  "kernelspec": {
   "display_name": "Python 3",
   "language": "python",
   "name": "python3"
  },
  "language_info": {
   "codemirror_mode": {
    "name": "ipython",
    "version": 3
   },
   "file_extension": ".py",
   "mimetype": "text/x-python",
   "name": "python",
   "nbconvert_exporter": "python",
   "pygments_lexer": "ipython3",
   "version": "3.5.5"
  }
 },
 "nbformat": 4,
 "nbformat_minor": 2
}
